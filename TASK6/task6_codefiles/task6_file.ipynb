{
 "cells": [
  {
   "cell_type": "code",
   "execution_count": 1,
   "id": "64bae6ff",
   "metadata": {},
   "outputs": [],
   "source": [
    "#Importing all the libraries\n",
    "import pandas as pd\n",
    "from sklearn.feature_extraction.text import CountVectorizer\n",
    "from sklearn.naive_bayes import MultinomialNB\n",
    "from sklearn.metrics import accuracy_score\n",
    "from sklearn.model_selection import train_test_split\n",
    "import numpy as np"
   ]
  },
  {
   "cell_type": "code",
   "execution_count": 2,
   "id": "7fc82c6e",
   "metadata": {},
   "outputs": [],
   "source": [
    "# Loading the dataset for movie review\n",
    "# Dataset consists of 20 reviews\n",
    "data = pd.read_csv('Movie_Review.csv')"
   ]
  },
  {
   "cell_type": "code",
   "execution_count": 3,
   "id": "9a3fbba3",
   "metadata": {},
   "outputs": [],
   "source": [
    "# Convert 'positive' sentiment labels to 1 and 'negative' sentiment labels to 0\n",
    "data['sentiment'] = data['sentiment'].map({'positive': 1, 'negative': 0})\n"
   ]
  },
  {
   "cell_type": "code",
   "execution_count": 4,
   "id": "bcb86d63",
   "metadata": {},
   "outputs": [],
   "source": [
    "# Splitting the dataset into training and testing\n",
    "train_data, test_data, train_labels, test_labels = train_test_split(data['review'], data['sentiment'], test_size=0.2, random_state=42)\n"
   ]
  },
  {
   "cell_type": "code",
   "execution_count": 5,
   "id": "c662d3ab",
   "metadata": {},
   "outputs": [],
   "source": [
    "# Vectorize the text data\n",
    "\n",
    "my_stop_words = ['the', 'a', 'an', 'and', 'of', 'to','this','that','too']\n",
    "vectorizer = CountVectorizer(stop_words=my_stop_words)\n",
    "train_vectors = vectorizer.fit_transform(train_data)\n",
    "test_vectors = vectorizer.transform(test_data)"
   ]
  },
  {
   "cell_type": "code",
   "execution_count": 6,
   "id": "27444986",
   "metadata": {},
   "outputs": [
    {
     "data": {
      "text/html": [
       "<style>#sk-container-id-1 {color: black;background-color: white;}#sk-container-id-1 pre{padding: 0;}#sk-container-id-1 div.sk-toggleable {background-color: white;}#sk-container-id-1 label.sk-toggleable__label {cursor: pointer;display: block;width: 100%;margin-bottom: 0;padding: 0.3em;box-sizing: border-box;text-align: center;}#sk-container-id-1 label.sk-toggleable__label-arrow:before {content: \"▸\";float: left;margin-right: 0.25em;color: #696969;}#sk-container-id-1 label.sk-toggleable__label-arrow:hover:before {color: black;}#sk-container-id-1 div.sk-estimator:hover label.sk-toggleable__label-arrow:before {color: black;}#sk-container-id-1 div.sk-toggleable__content {max-height: 0;max-width: 0;overflow: hidden;text-align: left;background-color: #f0f8ff;}#sk-container-id-1 div.sk-toggleable__content pre {margin: 0.2em;color: black;border-radius: 0.25em;background-color: #f0f8ff;}#sk-container-id-1 input.sk-toggleable__control:checked~div.sk-toggleable__content {max-height: 200px;max-width: 100%;overflow: auto;}#sk-container-id-1 input.sk-toggleable__control:checked~label.sk-toggleable__label-arrow:before {content: \"▾\";}#sk-container-id-1 div.sk-estimator input.sk-toggleable__control:checked~label.sk-toggleable__label {background-color: #d4ebff;}#sk-container-id-1 div.sk-label input.sk-toggleable__control:checked~label.sk-toggleable__label {background-color: #d4ebff;}#sk-container-id-1 input.sk-hidden--visually {border: 0;clip: rect(1px 1px 1px 1px);clip: rect(1px, 1px, 1px, 1px);height: 1px;margin: -1px;overflow: hidden;padding: 0;position: absolute;width: 1px;}#sk-container-id-1 div.sk-estimator {font-family: monospace;background-color: #f0f8ff;border: 1px dotted black;border-radius: 0.25em;box-sizing: border-box;margin-bottom: 0.5em;}#sk-container-id-1 div.sk-estimator:hover {background-color: #d4ebff;}#sk-container-id-1 div.sk-parallel-item::after {content: \"\";width: 100%;border-bottom: 1px solid gray;flex-grow: 1;}#sk-container-id-1 div.sk-label:hover label.sk-toggleable__label {background-color: #d4ebff;}#sk-container-id-1 div.sk-serial::before {content: \"\";position: absolute;border-left: 1px solid gray;box-sizing: border-box;top: 0;bottom: 0;left: 50%;z-index: 0;}#sk-container-id-1 div.sk-serial {display: flex;flex-direction: column;align-items: center;background-color: white;padding-right: 0.2em;padding-left: 0.2em;position: relative;}#sk-container-id-1 div.sk-item {position: relative;z-index: 1;}#sk-container-id-1 div.sk-parallel {display: flex;align-items: stretch;justify-content: center;background-color: white;position: relative;}#sk-container-id-1 div.sk-item::before, #sk-container-id-1 div.sk-parallel-item::before {content: \"\";position: absolute;border-left: 1px solid gray;box-sizing: border-box;top: 0;bottom: 0;left: 50%;z-index: -1;}#sk-container-id-1 div.sk-parallel-item {display: flex;flex-direction: column;z-index: 1;position: relative;background-color: white;}#sk-container-id-1 div.sk-parallel-item:first-child::after {align-self: flex-end;width: 50%;}#sk-container-id-1 div.sk-parallel-item:last-child::after {align-self: flex-start;width: 50%;}#sk-container-id-1 div.sk-parallel-item:only-child::after {width: 0;}#sk-container-id-1 div.sk-dashed-wrapped {border: 1px dashed gray;margin: 0 0.4em 0.5em 0.4em;box-sizing: border-box;padding-bottom: 0.4em;background-color: white;}#sk-container-id-1 div.sk-label label {font-family: monospace;font-weight: bold;display: inline-block;line-height: 1.2em;}#sk-container-id-1 div.sk-label-container {text-align: center;}#sk-container-id-1 div.sk-container {/* jupyter's `normalize.less` sets `[hidden] { display: none; }` but bootstrap.min.css set `[hidden] { display: none !important; }` so we also need the `!important` here to be able to override the default hidden behavior on the sphinx rendered scikit-learn.org. See: https://github.com/scikit-learn/scikit-learn/issues/21755 */display: inline-block !important;position: relative;}#sk-container-id-1 div.sk-text-repr-fallback {display: none;}</style><div id=\"sk-container-id-1\" class=\"sk-top-container\"><div class=\"sk-text-repr-fallback\"><pre>MultinomialNB()</pre><b>In a Jupyter environment, please rerun this cell to show the HTML representation or trust the notebook. <br />On GitHub, the HTML representation is unable to render, please try loading this page with nbviewer.org.</b></div><div class=\"sk-container\" hidden><div class=\"sk-item\"><div class=\"sk-estimator sk-toggleable\"><input class=\"sk-toggleable__control sk-hidden--visually\" id=\"sk-estimator-id-1\" type=\"checkbox\" checked><label for=\"sk-estimator-id-1\" class=\"sk-toggleable__label sk-toggleable__label-arrow\">MultinomialNB</label><div class=\"sk-toggleable__content\"><pre>MultinomialNB()</pre></div></div></div></div></div>"
      ],
      "text/plain": [
       "MultinomialNB()"
      ]
     },
     "execution_count": 6,
     "metadata": {},
     "output_type": "execute_result"
    }
   ],
   "source": [
    "# Training the model\n",
    "clf = MultinomialNB()\n",
    "clf.fit(train_vectors, train_labels)"
   ]
  },
  {
   "cell_type": "code",
   "execution_count": 8,
   "id": "cbbfc3bd",
   "metadata": {
    "scrolled": true
   },
   "outputs": [
    {
     "name": "stdout",
     "output_type": "stream",
     "text": [
      "Negative review:  The box office success of Rani Mukerji's Mrs. Chatterjee Vs Norway is a testimony to the fact that v\n",
      "Top negative words: ['watch', 'want', 'these', 'still', 'quality', 'movies']\n",
      "================================================================================\n",
      "Positive review:  This is quite possibly one of the worst movies ever made. Everything about it--acting, directing, sc\n",
      "Top positive words: ['would', 'worst', 'script', 'quite']\n",
      "================================================================================\n",
      "Positive review:  It's been a year since the release of @ssrajamouli's Action Epic RRR, the movie is still making the \n",
      "Top positive words: ['still', 'ssrajamouli', 'since', 'sensation', 'rrrmovie', 'release', 'movie', 'making']\n",
      "================================================================================\n",
      "Positive review:  I loved Pathaan movie. One of best movies of SRK after his romance era. Action and plotting everythi\n",
      "Top positive words: ['romance', 'plotting', 'pathaan', 'movies', 'movie', 'loved']\n",
      "================================================================================\n",
      "Negative review:  I watch a lot of movies and I like to give them all a chance just in case there is something interes\n",
      "Top negative words: ['just', 'would', 'with', 'wish', 'watch', 'warrant']\n",
      "================================================================================\n",
      "Negative review:  Well. What did I just watch ? I'm not sure if I can find words to describe this train wreck.So, a ra\n",
      "Top negative words: ['there', 'script', 'because', 'what', 'well', 'watch', 'take', 'sure', 'still']\n",
      "================================================================================\n",
      "Positive review:  I thought the cast was great. Brianna and Emma were exceptionaly talented in thier characters. Fun f\n",
      "Top positive words: ['thought', 'thier', 'talented', 'great', 'exceptionaly']\n",
      "================================================================================\n",
      "Negative review:  I rarely stop watching a movie although how crappy it is. Well for this one I made an exception sinc\n",
      "Top negative words: ['well', 'watching', 'stop', 'skip', 'since', 'reviews', 'rarely']\n",
      "================================================================================\n",
      "Negative review:  I wanted to like this movie. I really did. But the thing is there is absolutely NOTHING to like abou\n",
      "Top negative words: ['nothing', 'movie', 'like', 'about', 'with', 'waste', 'time', 'thing']\n",
      "================================================================================\n",
      "Positive review:  Respect for delivery persons after watching this movie. Nandita Das has done incredible job just by \n",
      "Top positive words: ['movie', 'watching', 'never', 'incredible']\n",
      "================================================================================\n",
      "Positive review:  I was thoroughly enjoyed buy the production design it's beautifully done. The costume design is meti\n",
      "Top positive words: ['world', 'design', 'worth', 'watch', 'thrillers', 'thoroughly', 'their']\n",
      "================================================================================\n",
      "Negative review:  No grip in story. Pathetic acting by main actress. The guy with her more worse. If you have nothing \n",
      "Top negative words: ['watch', 'such', 'still', 'shot']\n",
      "================================================================================\n",
      "Positive review:  Ayushmann Khurrana is excellent as the leading man as he charms his way through the action and kick \n",
      "Top positive words: ['movie', 'action', 'which', 'through', 'their']\n",
      "================================================================================\n",
      "Negative review:  I'm not sure what accomplished director/producer/cinematographer Joshua Caldwell was thinking taking\n",
      "Top negative words: ['writing', 'what', 'joshua', 'writer', 'would', 'when']\n",
      "================================================================================\n",
      "Positive review:  Easily the best scream movie since the original. In every way (but one - explained soon) it's better\n",
      "Top positive words: ['scream', 'scary', 'intensity', 'things']\n",
      "================================================================================\n",
      "Positive review:  Though the premise of 4 old friends setting out on Everest Base Camp at a very old age appears flims\n",
      "Top positive words: ['would', 'setting', 'middle', 'class']\n",
      "================================================================================\n",
      "Positive review:  Brooklyn 45 ,A lot is done with a little, and the pacing is set up perfectly to make it feel like we\n",
      "Top positive words: ['watching', 'their']\n",
      "================================================================================\n",
      "Negative review:  Going on to the negatives, the story does feel over-stretched and some of it comes over as vague and\n",
      "Top negative words: ['with', 'over', 'more', 'making', 'film', 'feel']\n",
      "================================================================================\n"
     ]
    }
   ],
   "source": [
    "# Looping through the reviews in the file and predicting the sentiment\n",
    "#Printing the first 100 words of the review\n",
    "#Printing the Top Words - according to the sentiment\n",
    "for i in range(len(data)):\n",
    "    review = data['review'][i]\n",
    "    vector = vectorizer.transform([review])\n",
    "    prediction = clf.predict(vector)\n",
    "    probas = clf.predict_proba(vector)\n",
    "    feature_names = np.array(vectorizer.get_feature_names_out())\n",
    "    topn = 10  # Change this value to print more or fewer top features\n",
    "    if prediction == 1:\n",
    "        print(\"Positive review: \", review[:100])\n",
    "        log_prob_positive = clf.feature_log_prob_[1]\n",
    "        coefs_with_fns = sorted(list(zip(log_prob_positive, feature_names)), reverse=True)\n",
    "        top_positive = [x for x in coefs_with_fns if x[1] not in my_stop_words and x[1].isalpha() and len(x[1]) >= 4]\n",
    "        top_positive_review = sorted(list(zip(vector.toarray()[0], feature_names)), reverse=True)[:topn]\n",
    "        top_positive_review_words = [x[1] for x in top_positive_review if x[1] not in my_stop_words and x[1].isalpha() and len(x[1]) > 4]\n",
    "        print(\"Top positive words:\", top_positive_review_words)\n",
    "        \n",
    "    else:\n",
    "        print(\"Negative review: \", review[:100])\n",
    "        log_prob_negative = clf.feature_log_prob_[0]\n",
    "        coefs_with_fns = sorted(list(zip(log_prob_negative, feature_names)))\n",
    "        top_negative_review = sorted(list(zip(vector.toarray()[0], feature_names)), reverse=True)[:topn]\n",
    "        top_negative_review_words = [x[1] for x in top_negative_review if x[1].isalpha() and len(x[1]) > 3 and not any(c.isdigit() for c in x[1])]\n",
    "        print(\"Top negative words:\", top_negative_review_words)\n",
    "    print(\"=\"*80)\n"
   ]
  },
  {
   "cell_type": "code",
   "execution_count": null,
   "id": "5e09c55b",
   "metadata": {},
   "outputs": [],
   "source": []
  },
  {
   "cell_type": "code",
   "execution_count": null,
   "id": "ed15f7ac",
   "metadata": {},
   "outputs": [],
   "source": []
  }
 ],
 "metadata": {
  "kernelspec": {
   "display_name": "Python 3 (ipykernel)",
   "language": "python",
   "name": "python3"
  },
  "language_info": {
   "codemirror_mode": {
    "name": "ipython",
    "version": 3
   },
   "file_extension": ".py",
   "mimetype": "text/x-python",
   "name": "python",
   "nbconvert_exporter": "python",
   "pygments_lexer": "ipython3",
   "version": "3.11.2"
  }
 },
 "nbformat": 4,
 "nbformat_minor": 5
}
